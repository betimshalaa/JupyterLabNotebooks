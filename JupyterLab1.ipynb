{
 "cells": [
  {
   "cell_type": "code",
   "execution_count": 20,
   "metadata": {},
   "outputs": [
    {
     "name": "stdout",
     "output_type": "stream",
     "text": [
      "<pandas.core.groupby.groupby.DataFrameGroupBy object at 0x7f1236e59ac8>\n"
     ]
    }
   ],
   "source": [
    "import pandas as pd\n",
    "\n",
    "# Load data from csv file\n",
    "# data = pd.read_csv('outfiles.csv')\n",
    "df =  pd.read_csv('outfiles.csv')\n",
    "# df=df.groupby(['confidence']).groups.keys()\n",
    "# df=df.groupby('acq_date').agg({\"confidence\": \"mean\"},dtype=float)\n",
    "df=df.groupby('confidence')\n",
    "\n",
    "print(df)"
   ]
  },
  
   ],
   "source": [
    "import pandas as pd\n",
    "\n",
    "# Load data from csv file\n",
    "# data = pd.read_csv('outfiles.csv')\n",
    "df =  pd.read_csv('outfiles.csv')\n",
    "# df=df.groupby(['confidence']).groups.keys()\n",
    "# df=df.groupby('acq_date').agg({\"confidence\": \"mean\"},dtype=float)\n",
    "# df=df.groupby(['confidence'])\n",
    "grouped = df.groupby('acq_date').agg({\"frp\": [sum, min, max]}) \n",
    "# Using ravel, and a string join, we can create better names for the columns:\n",
    "grouped.columns = [\"_\".join(x) for x in grouped.columns.ravel()]\n",
    "grouped.head()\n",
    "print(grouped)"
   ]
  },
  {
   "cell_type": "code",
   "execution_count": null,
   "metadata": {},
   "outputs": [],
   "source": [
    "import pandas as pd\n",
    "import numpy as np\n",
    "# Load data from csv file\n",
    "# data = pd.read_csv('outfiles.csv')\n",
    "df =  pd.read_csv('outfiles.csv')\n",
    "df['confidence'] = pd.to_numeric(df['confidence'], errors='coerce')\n",
    "# df=df.groupby(['confidence']).groups.keys()\n",
    "# df=df.groupby('acq_date').agg({\"confidence\": \"mean\"},dtype=float)\n",
    "# df=df.groupby(['confidence'])\n",
    "grouped = df.groupby(['latitude','longitude']);\n",
    "# Using ravel, and a string join, we can create better names for the columns:\n",
    "grouped.head()\n",
    "#grouped = df.groupby('frp').mean()\n",
    "print(grouped.describe())"
   ]
  },
  {
   "cell_type": "code",
   "execution_count": null,
   "metadata": {},
   "outputs": [],
   "source": []
  },
  {
   "cell_type": "code",
   "execution_count": null,
   "metadata": {},
   "outputs": [],
   "source": []
  },
  {
   "cell_type": "code",
   "execution_count": null,
   "metadata": {},
   "outputs": [],
   "source": []
  }
 ],
 "metadata": {
  "kernelspec": {
   "display_name": "Python 3",
   "language": "python",
   "name": "python3"
  },
  "language_info": {
   "codemirror_mode": {
    "name": "ipython",
    "version": 3
   },
   "file_extension": ".py",
   "mimetype": "text/x-python",
   "name": "python",
   "nbconvert_exporter": "python",
   "pygments_lexer": "ipython3",
   "version": "3.5.3"
  }
 },
 "nbformat": 4,
 "nbformat_minor": 2
}
